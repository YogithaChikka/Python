{
 "cells": [
  {
   "cell_type": "code",
   "execution_count": null,
   "id": "a356b0ae-97e7-4015-b9d2-499967eb6ff9",
   "metadata": {},
   "outputs": [],
   "source": [
    "one = 1\n",
    "two = 2\n",
    "hello = \"hello\"\n",
    "\n",
    "print(f\"{one} {two} {hello}\")\n",
    "\n",
    "number = 1 + 2 * 3 / 4.0\n",
    "print(number)\n",
    "\n",
    "lotsofhellos = [\"hello\"] * 10\n",
    "print('\\n'.join(lotsofhellos))\n",
    "\n",
    "lotsofhellos = \"hello\" * 10\n",
    "print(lotsofhellos)\n",
    "\n",
    "a,b = 3,2\n",
    "print(a,b)"
   ]
  }
 ],
 "metadata": {
  "kernelspec": {
   "display_name": "Python 3 (ipykernel)",
   "language": "python",
   "name": "python3"
  },
  "language_info": {
   "codemirror_mode": {
    "name": "ipython",
    "version": 3
   },
   "file_extension": ".py",
   "mimetype": "text/x-python",
   "name": "python",
   "nbconvert_exporter": "python",
   "pygments_lexer": "ipython3",
   "version": "3.11.8"
  }
 },
 "nbformat": 4,
 "nbformat_minor": 5
}
