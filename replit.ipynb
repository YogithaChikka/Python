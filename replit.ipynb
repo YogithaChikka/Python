{
 "cells": [
  {
   "cell_type": "code",
   "execution_count": null,
   "id": "a356b0ae-97e7-4015-b9d2-499967eb6ff9",
   "metadata": {},
   "outputs": [],
   "source": [
    "one = 1\n",
    "two = 2\n",
    "hello = \"hello\"\n",
    "\n",
    "print(f\"{one} {two} {hello}\")\n",
    "\n",
    "number = 1 + 2 * 3 / 4.0\n",
    "print(number)\n",
    "\n",
    "lotsofhellos = [\"hello\"] * 10\n",
    "print('\\n'.join(lotsofhellos))\n",
    "\n",
    "lotsofhellos = \"hello\" * 10\n",
    "print(lotsofhellos)\n",
    "\n",
    "a,b = 3,2\n",
    "print(a,b)"
   ]
  },
  {
   "cell_type": "code",
   "execution_count": null,
   "id": "fc8a57e5",
   "metadata": {},
   "outputs": [],
   "source": [
    "#Day 6 \n",
    "\n",
    "print(\"Hello\")\n",
    "num_char = len(\"Hi\")\n",
    "print(num_char)\n",
    "\n",
    "def my_function():\n",
    "    print(\"Hello Yogi\")\n",
    "    print(\"Bye\")\n",
    "\n",
    "my_function()\n",
    "my_function()\n",
    "\n",
    "for number in range(0,11):\n",
    "    print(number)\n",
    "\n"
   ]
  },
  {
   "cell_type": "code",
   "execution_count": null,
   "id": "e6d92536",
   "metadata": {},
   "outputs": [],
   "source": [
    "list = [10,5,1,9,100]\n",
    "list.sort()\n",
    "\n",
    "length_of_list = len(list)\n",
    "if length_of_list % 2 == 0:\n",
    "    index_value = int((length_of_list/2)-1)\n",
    "else:\n",
    "    index_value = int(((length_of_list + 1)/2)-1)\n",
    "mid_value = list[index_value]  \n",
    "\n",
    "print(\"Max value : \" , list[-1])\n",
    "print(\"Min value : \" , list[0])\n",
    "print(\"Mid value : \" , mid_value)"
   ]
  },
  {
   "cell_type": "code",
   "execution_count": null,
   "id": "202abb86",
   "metadata": {},
   "outputs": [],
   "source": [
    "math_score = int(input(\"Enter your Math score: \"))\n",
    "weight_math = 40\n",
    "print(\"Weight of Math: \" , weight_math)\n",
    "\n",
    "science_score = int(input(\"Enter your Science score: \"))\n",
    "weight_science = 30\n",
    "print(\"Weight of Science: \" , weight_science)\n",
    "\n",
    "eng_score = int(input(\"Enter your English score: \"))\n",
    "weight_eng = 30\n",
    "print(\"Weight of English: \" , weight_eng)\n",
    "\n",
    "weighted_average_grade = ((math_score*weight_math) + (science_score*weight_science) + (eng_score*weight_eng))/(weight_math + weight_science + weight_eng)\n",
    "print(\"Your average grade: \" , weighted_average_grade)\n",
    "\n",
    "if weighted_average_grade>=90 or weighted_average_grade<=100:\n",
    "    print(\"A\")\n",
    "elif weighted_average_grade>=80 or weighted_average_grade<=89:\n",
    "    print(\"B\")\n",
    "elif weighted_average_grade>=70 or weighted_average_grade<=79:\n",
    "    print(\"C\")\n",
    "elif weighted_average_grade>=60 or weighted_average_grade<=69:\n",
    "    print(\"D\")\n",
    "else:\n",
    "    print(\"F\")\n"
   ]
  }
 ],
 "metadata": {
  "kernelspec": {
   "display_name": "Python 3 (ipykernel)",
   "language": "python",
   "name": "python3"
  },
  "language_info": {
   "codemirror_mode": {
    "name": "ipython",
    "version": 3
   },
   "file_extension": ".py",
   "mimetype": "text/x-python",
   "name": "python",
   "nbconvert_exporter": "python",
   "pygments_lexer": "ipython3",
   "version": "3.11.8"
  }
 },
 "nbformat": 4,
 "nbformat_minor": 5
}
