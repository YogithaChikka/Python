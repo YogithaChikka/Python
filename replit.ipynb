{
 "cells": [
  {
   "cell_type": "code",
   "execution_count": null,
   "id": "a356b0ae-97e7-4015-b9d2-499967eb6ff9",
   "metadata": {},
   "outputs": [],
   "source": [
    "one = 1\n",
    "two = 2\n",
    "hello = \"hello\"\n",
    "\n",
    "print(f\"{one} {two} {hello}\")\n",
    "\n",
    "number = 1 + 2 * 3 / 4.0\n",
    "print(number)\n",
    "\n",
    "lotsofhellos = [\"hello\"] * 10\n",
    "print('\\n'.join(lotsofhellos))\n",
    "\n",
    "lotsofhellos = \"hello\" * 10\n",
    "print(lotsofhellos)\n",
    "\n",
    "a,b = 3,2\n",
    "print(a,b)"
   ]
  },
  {
   "cell_type": "code",
   "execution_count": 3,
   "id": "fc8a57e5",
   "metadata": {},
   "outputs": [
    {
     "name": "stdout",
     "output_type": "stream",
     "text": [
      "Hello\n",
      "2\n",
      "Hello Yogi\n",
      "Bye\n",
      "Hello Yogi\n",
      "Bye\n"
     ]
    }
   ],
   "source": [
    "#Day 6 \n",
    "\n",
    "print(\"Hello\")\n",
    "num_char = len(\"Hi\")\n",
    "print(num_char)\n",
    "\n",
    "def my_function():\n",
    "    print(\"Hello Yogi\")\n",
    "    print(\"Bye\")\n",
    "\n",
    "my_function()\n",
    "my_function()\n"
   ]
  }
 ],
 "metadata": {
  "kernelspec": {
   "display_name": "Python 3 (ipykernel)",
   "language": "python",
   "name": "python3"
  },
  "language_info": {
   "codemirror_mode": {
    "name": "ipython",
    "version": 3
   },
   "file_extension": ".py",
   "mimetype": "text/x-python",
   "name": "python",
   "nbconvert_exporter": "python",
   "pygments_lexer": "ipython3",
   "version": "3.11.8"
  }
 },
 "nbformat": 4,
 "nbformat_minor": 5
}
