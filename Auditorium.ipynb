{
 "cells": [
  {
   "cell_type": "code",
   "execution_count": null,
   "metadata": {},
   "outputs": [],
   "source": [
    "# ADDING EVEN NUMBERS\n",
    "\n",
    "# my method\n",
    "target = int(input())\n",
    "sum = 0\n",
    "for numbers in range(0,target+1):\n",
    "    if numbers % 2 == 0:\n",
    "        sum += numbers\n",
    "print(sum)\n",
    "\n",
    "# method 1 - Udemy method\n",
    "even_sum = 0\n",
    "#                start  end  skip/jump\n",
    "for number in range(2,target+1,2):\n",
    "    even_sum += number\n",
    "print(even_sum) "
   ]
  },
  {
   "cell_type": "code",
   "execution_count": null,
   "metadata": {},
   "outputs": [],
   "source": [
    "# FIZZBUZZ \n",
    "# my method\n",
    "for number in range(1,101):\n",
    "    if number % 3 == 0 and number % 5 == 0:\n",
    "        print(\"FizzBuzz\")\n",
    "    elif number % 3 == 0:\n",
    "        print(\"Fizz\")\n",
    "    elif number % 5 == 0:\n",
    "        print(\"Buzz\")\n",
    "    else:\n",
    "        print(number)\n",
    "\n",
    "# method 1 - Udemy method \n",
    "    target = 100\n",
    "    for number in range(1,target+1):\n",
    "        if number % 3 == 0 and number % 5 == 0:\n",
    "            print(\"FizzBuzz\")\n",
    "        elif number % 3 == 0:\n",
    "            print(\"Fizz\")\n",
    "        elif number % 5 == 0:\n",
    "            print(\"Buzz\")\n",
    "        else:\n",
    "            print(number)"
   ]
  }
 ],
 "metadata": {
  "kernelspec": {
   "display_name": "env",
   "language": "python",
   "name": "python3"
  },
  "language_info": {
   "codemirror_mode": {
    "name": "ipython",
    "version": 3
   },
   "file_extension": ".py",
   "mimetype": "text/x-python",
   "name": "python",
   "nbconvert_exporter": "python",
   "pygments_lexer": "ipython3",
   "version": "3.11.8"
  }
 },
 "nbformat": 4,
 "nbformat_minor": 2
}
