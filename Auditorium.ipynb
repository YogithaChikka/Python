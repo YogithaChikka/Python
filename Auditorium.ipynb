{
 "cells": [
  {
   "cell_type": "code",
   "execution_count": null,
   "metadata": {},
   "outputs": [],
   "source": [
    "# ADDING EVEN NUMBERS\n",
    "\n",
    "# my method\n",
    "target = int(input())\n",
    "sum = 0\n",
    "for numbers in range(0,target+1):\n",
    "    if numbers % 2 == 0:\n",
    "        sum += numbers\n",
    "print(sum)\n",
    "\n",
    "# method 1 - Udemy method\n",
    "even_sum = 0\n",
    "#                start  end  skip/jump\n",
    "for number in range(2,target+1,2):\n",
    "    even_sum += number\n",
    "print(even_sum) "
   ]
  },
  {
   "cell_type": "code",
   "execution_count": null,
   "metadata": {},
   "outputs": [],
   "source": [
    "# FIZZBUZZ \n",
    "# my method\n",
    "for number in range(1,101):\n",
    "    if number % 3 == 0 and number % 5 == 0:\n",
    "        print(\"FizzBuzz\")\n",
    "    elif number % 3 == 0:\n",
    "        print(\"Fizz\")\n",
    "    elif number % 5 == 0:\n",
    "        print(\"Buzz\")\n",
    "    else:\n",
    "        print(number)\n",
    "\n",
    "# method 1 - Udemy method \n",
    "    target = 100\n",
    "    for number in range(1,target+1):\n",
    "        if number % 3 == 0 and number % 5 == 0:\n",
    "            print(\"FizzBuzz\")\n",
    "        elif number % 3 == 0:\n",
    "            print(\"Fizz\")\n",
    "        elif number % 5 == 0:\n",
    "            print(\"Buzz\")\n",
    "        else:\n",
    "            print(number)"
   ]
  },
  {
   "cell_type": "code",
   "execution_count": null,
   "metadata": {},
   "outputs": [],
   "source": [
    "#PAINT AREA CALCULATOR\n",
    "import math\n",
    "def paint_calc(height,width,cover):\n",
    "  number_of_cans = math.ceil((height*width)/cover)\n",
    "  print(f\"You'll need {number_of_cans} cans of paint.\")\n",
    "\n",
    "\n",
    "test_h = int(input()) # Height of wall (m)\n",
    "test_w = int(input()) # Width of wall (m)\n",
    "coverage = 5\n",
    "paint_calc(height=test_h, width=test_w, cover=coverage)"
   ]
  }
 ],
 "metadata": {
  "kernelspec": {
   "display_name": "env",
   "language": "python",
   "name": "python3"
  },
  "language_info": {
   "codemirror_mode": {
    "name": "ipython",
    "version": 3
   },
   "file_extension": ".py",
   "mimetype": "text/x-python",
   "name": "python",
   "nbconvert_exporter": "python",
   "pygments_lexer": "ipython3",
   "version": "3.11.8"
  }
 },
 "nbformat": 4,
 "nbformat_minor": 2
}
